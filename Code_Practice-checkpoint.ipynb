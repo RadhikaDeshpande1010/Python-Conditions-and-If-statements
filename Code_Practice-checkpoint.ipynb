{
 "cells": [
  {
   "cell_type": "code",
   "execution_count": 21,
   "id": "f3b83b04-8880-47f5-b63d-e3c43965f811",
   "metadata": {},
   "outputs": [
    {
     "name": "stdin",
     "output_type": "stream",
     "text": [
      " 450\n"
     ]
    },
    {
     "name": "stdout",
     "output_type": "stream",
     "text": [
      "1400.0\n"
     ]
    }
   ],
   "source": [
    "'''Question 7: Electricity Bill Calculator\n",
    "Write a Python program that calculates the electricity bill based on the number of units consumed:\n",
    "\n",
    "First 100 units: ₹1.5/unit\n",
    "\n",
    "Next 100 units: ₹2.5/unit\n",
    "\n",
    "Above 200 units: ₹4/unit\n",
    "'''\n",
    "\n",
    "'''\n",
    "case1 :=> 80 units = 80 * 1.5 = 120rs\n",
    "case2 :=> 170 unites :=> 100 * 1.5 + 70 * 2.5 = 150 + 175 = 325\n",
    "case3  :=> 100 * 1.5 + 100 * 2.5 + 200 * 4 = 150 + 250 + 400 = 800\n",
    "'''\n",
    "units = int(input())\n",
    "if units > 0 and units <= 100:\n",
    "    result = units * 1.5\n",
    "    print(int(result))\n",
    "if units > 100 and units <= 200:\n",
    "    result = units - 100\n",
    "    price = (100*1.5) + result * 2.5\n",
    "    print(price) \n",
    "else:\n",
    "    result = units - 200\n",
    "    price = (100*1.5) + (100*2.5) + result * 4\n",
    "    print(price)"
   ]
  },
  {
   "cell_type": "code",
   "execution_count": 37,
   "id": "15088f00-f003-42fd-b8b4-8dc04f23cd75",
   "metadata": {},
   "outputs": [
    {
     "name": "stdout",
     "output_type": "stream",
     "text": [
      "12\n"
     ]
    }
   ],
   "source": [
    "''' 9. Sum Only Even Digits\n",
    "Input: An integer i = 246135\n",
    "Task: Sum only the even digits.\n",
    "Output: 12 '''\n",
    "\n",
    "num = 246135\n",
    "str1 = str(num)\n",
    "sum = 0\n",
    "for i in str1:\n",
    "    if (int(i) % 2 == 0):\n",
    "        sum = sum + int(i)\n",
    "print(sum)\n"
   ]
  },
  {
   "cell_type": "code",
   "execution_count": 49,
   "id": "c4afa8b8-0468-47e7-8111-340517f25c34",
   "metadata": {},
   "outputs": [
    {
     "name": "stdout",
     "output_type": "stream",
     "text": [
      "[0, 0]\n",
      "[1, 3, 12]\n",
      "[1, 3, 12, 0, 0]\n"
     ]
    }
   ],
   "source": [
    "''' 17. Move All Zeros to the End\n",
    "Problem: Move all 0s in the list to the end while maintaining the order of non-zero elements.\n",
    "Input: [0, 1, 0, 3, 12]\n",
    "Output: [1, 3, 12, 0, 0] '''\n",
    "ls = [0, 1, 0, 3, 12]\n",
    "ls1 = []\n",
    "ls2 = []\n",
    "for i in ls:\n",
    "    if i == 0:\n",
    "        ls1.append(i)\n",
    "    else:\n",
    "        ls2.append(i)\n",
    "print(ls1)\n",
    "print(ls2)\n",
    "print(ls2 + ls1)"
   ]
  },
  {
   "cell_type": "code",
   "execution_count": 53,
   "id": "6bd94bf0-b853-40f0-a063-80ddcedc7c4e",
   "metadata": {},
   "outputs": [
    {
     "name": "stdin",
     "output_type": "stream",
     "text": [
      " 400000\n"
     ]
    },
    {
     "name": "stdout",
     "output_type": "stream",
     "text": [
      "20000\n"
     ]
    }
   ],
   "source": [
    "''' Question 8: Income Tax Calculator\n",
    "Write a Python program that takes a person's annual income and calculates tax based on the following rules:\n",
    "\n",
    "Income up to ₹2.5 lakh: No tax\n",
    "\n",
    "₹2.5 lakh to ₹5 lakh: 5%\n",
    "\n",
    "₹5 lakh to ₹10 lakh: 20%\n",
    "\n",
    "Above ₹10 lakh: 30% '''\n",
    "\n",
    "price = int(input())\n",
    "if price > 0 and price <= 250000:\n",
    "    print(\"No Tax\")\n",
    "elif price > 250000 and price <= 500000:\n",
    "    tax = price * 0.05\n",
    "    print(int(tax))\n",
    "elif price > 500000 and price <= 1000000:\n",
    "    tax = price * 0.2\n",
    "    print(int(tax))\n",
    "else:\n",
    "    tax = price * 0.3\n",
    "    print(int(tax))"
   ]
  }
 ],
 "metadata": {
  "kernelspec": {
   "display_name": "Python 3 (ipykernel)",
   "language": "python",
   "name": "python3"
  },
  "language_info": {
   "codemirror_mode": {
    "name": "ipython",
    "version": 3
   },
   "file_extension": ".py",
   "mimetype": "text/x-python",
   "name": "python",
   "nbconvert_exporter": "python",
   "pygments_lexer": "ipython3",
   "version": "3.12.7"
  }
 },
 "nbformat": 4,
 "nbformat_minor": 5
}
