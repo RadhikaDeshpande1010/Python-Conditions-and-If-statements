{
 "cells": [
  {
   "cell_type": "code",
   "execution_count": 53,
   "id": "a51fc580-4341-4d95-9943-7f71ad866b2d",
   "metadata": {},
   "outputs": [
    {
     "name": "stdin",
     "output_type": "stream",
     "text": [
      "Enter value of number1: 20\n",
      "Enter value of number2: 30\n"
     ]
    },
    {
     "name": "stdout",
     "output_type": "stream",
     "text": [
      "Number2 (30) is greater than Number1 (20).\n"
     ]
    }
   ],
   "source": [
    "# WAP to prompt user to enter 2 numbers, Print the greater number among those 2\n",
    "number1 = int(input(\"Enter value of number1:\" ))\n",
    "number2 = int(input(\"Enter value of number2:\" ))\n",
    "if(number1 > number2):\n",
    "    print(f\"Number1 ({number1}) is greater than Number2 ({number2}).\")\n",
    "else:\n",
    "    print(f\"Number2 ({number2}) is greater than Number1 ({number1}).\")"
   ]
  },
  {
   "cell_type": "code",
   "execution_count": 55,
   "id": "dd7fbd19-7756-4bd0-aae8-f803d36b46a6",
   "metadata": {},
   "outputs": [
    {
     "name": "stdin",
     "output_type": "stream",
     "text": [
      "Enter value of number1: 20\n",
      "Enter value of number2: 2\n"
     ]
    },
    {
     "name": "stdout",
     "output_type": "stream",
     "text": [
      "Number1 (20) is divisible by Number2 (2).\n"
     ]
    }
   ],
   "source": [
    "# Write a Python program that takes two numbers as input and checks if the first number is divisible by the second number. If it is, print \"Divisible,\" otherwise, print \"Not divisible.\n",
    "number1 = int(input(\"Enter value of number1:\" ))\n",
    "number2 = int(input(\"Enter value of number2:\" ))\n",
    "if number1 % number2 == 0:\n",
    "    print(f\"Number1 ({number1}) is divisible by Number2 ({number2}).\")\n",
    "else:\n",
    "    print(f\"Number1 ({number1}) is not divisible by Number2 ({number2}).\")"
   ]
  },
  {
   "cell_type": "code",
   "execution_count": 57,
   "id": "b52ec5a0-1b53-4c78-80c6-ac8790b82f80",
   "metadata": {},
   "outputs": [
    {
     "name": "stdin",
     "output_type": "stream",
     "text": [
      "Enter value of number1: 19\n",
      "Enter value of number2: 34\n",
      "Enter value of number3: 15\n"
     ]
    },
    {
     "name": "stdout",
     "output_type": "stream",
     "text": [
      "Number2 (34) is greater than by Number1 (19) and Number3 (15).\n"
     ]
    }
   ],
   "source": [
    "# Write a Python Program to find the maximum of 3 numbers. Take the input from user.\n",
    "number1 = int(input(\"Enter value of number1:\" ))\n",
    "number2 = int(input(\"Enter value of number2:\" ))\n",
    "number3 = int(input(\"Enter value of number3:\" ))\n",
    "if number1 > number2 and number1 > number3:\n",
    "    print(f\"Number1 ({number1}) is greater than by Number2 ({number2}) and Number3 ({number3}).\")\n",
    "elif number2 > number1 and number2 > number3:\n",
    "    print(f\"Number2 ({number2}) is greater than by Number1 ({number1}) and Number3 ({number3}).\")\n",
    "else:\n",
    "    print(f\"Number3 ({number3}) is greater than by Number1 ({number1}) and Number2 ({number2}).\")"
   ]
  },
  {
   "cell_type": "code",
   "execution_count": 1,
   "id": "44e1226f-aac6-4bf3-a414-8ed1cbfcb01e",
   "metadata": {},
   "outputs": [
    {
     "name": "stdout",
     "output_type": "stream",
     "text": [
      "Sum of digits: 30\n"
     ]
    }
   ],
   "source": [
    "# Write a program to calculate the sum of number.\n",
    "\n",
    "number = 6789\n",
    "digit_sum = 0\n",
    "while number != 0:\n",
    "    reminder = number % 10  # Get the last digit (6789 % 10 = 9)\n",
    "    digit_sum = digit_sum + reminder  # Add it to the sum (0 + 9 = 9)\n",
    "    number = number // 10   # Remove the last digit (6789 // 10 = 678)\n",
    "\n",
    "print(\"Sum of digits:\", digit_sum)"
   ]
  },
  {
   "cell_type": "code",
   "execution_count": 3,
   "id": "6917ca9a-3c95-4a07-96bb-6e2da544e939",
   "metadata": {},
   "outputs": [
    {
     "name": "stdout",
     "output_type": "stream",
     "text": [
      "Reversed number: 9876\n"
     ]
    }
   ],
   "source": [
    "# Write a Python program to reverse a given number using a while loop.\n",
    "number = 6789\n",
    "reverse = 0\n",
    "while number != 0:\n",
    "    reminder = number % 10      # Get the last digit of the number (6789 % 10 = 9)\n",
    "    reverse = reverse * 10 + reminder       # Append the digit to the reversed number (0 * 10 + 9 = 9)\n",
    "    number = number // 10       # Remove the last digit from the original number (6789 // 10 = 678)\n",
    "print(\"Reversed number:\", reverse)"
   ]
  },
  {
   "cell_type": "code",
   "execution_count": 5,
   "id": "24da66c9-8aad-4c0a-96a1-00d402483a9b",
   "metadata": {},
   "outputs": [
    {
     "name": "stdout",
     "output_type": "stream",
     "text": [
      "Count of even numbers is:  6\n",
      "Count of odd numbers is:  2\n"
     ]
    }
   ],
   "source": [
    "# Write a program to find count of even and odd number from the list.\n",
    "\n",
    "list = [56,-98,12,-30,76,51,23,34]\n",
    "even_count = 0\n",
    "odd_count = 0\n",
    "for item in list:\n",
    "    if item % 2 == 0:\n",
    "        even_count = even_count + 1\n",
    "    else:\n",
    "        odd_count = odd_count + 1\n",
    "print(\"Count of even numbers is: \", even_count)\n",
    "print(\"Count of odd numbers is: \", odd_count)"
   ]
  },
  {
   "cell_type": "code",
   "execution_count": 9,
   "id": "7aec69ff-7ff8-4aba-add2-d64ba8458245",
   "metadata": {},
   "outputs": [
    {
     "name": "stdout",
     "output_type": "stream",
     "text": [
      "Even sum of the list : 6 is greater than odd sum : 2\n"
     ]
    }
   ],
   "source": [
    "# Write a program to validate whether the sum of odd numbers or the sum of even numbers is greater.\n",
    "list = [56,-98,12,-30,76,51,23,34]\n",
    "even_sum = 0\n",
    "odd_sum = 0\n",
    "for items in list:\n",
    "    if items % 2 == 0:\n",
    "        even_sum = even_sum +1\n",
    "    else:\n",
    "        odd_sum = odd_sum +1\n",
    "if even_sum > odd_sum:\n",
    "    print(\"Even sum of the list :\", even_sum, \"is greater than odd sum :\", odd_sum)\n",
    "else:\n",
    "    print(\"Odd sum of the list :\", odd_sum, \"is greater than even sum :\", even_sum)"
   ]
  },
  {
   "cell_type": "code",
   "execution_count": 7,
   "id": "1a3521fd-eb27-4e18-89e4-fd2fa0b4d07b",
   "metadata": {},
   "outputs": [
    {
     "name": "stdout",
     "output_type": "stream",
     "text": [
      "Items divisible by 5 and 10: 50\n",
      "Items divisible by 5 and 10: -30\n"
     ]
    }
   ],
   "source": [
    "# Write a program to find whether a number is divisible by 5 and 10.\n",
    "list = [56,-98,12,50,-30,76,51,23,34]\n",
    "for item in list:\n",
    "    if item % 5 == 0 and item % 10 == 0:\n",
    "        print(\"Items divisible by 5 and 10:\", item)"
   ]
  },
  {
   "cell_type": "code",
   "execution_count": 11,
   "id": "09f0aa26-bc5f-47be-b3f2-a09a30ae42cd",
   "metadata": {},
   "outputs": [
    {
     "name": "stdin",
     "output_type": "stream",
     "text": [
      "Enter the salary:  60000\n",
      "Enter the years of service:  6\n"
     ]
    },
    {
     "name": "stdout",
     "output_type": "stream",
     "text": [
      "Your net bonus amount is:  3000\n"
     ]
    }
   ],
   "source": [
    "# A company decided to give bonus of 5% to employee if his/her year of service is more than 5 years. Ask user for their salary and year of service and print the net bonus amount.\n",
    "\n",
    "salary = int(input(\"Enter the salary: \"))\n",
    "years_of_service = int(input(\"Enter the years of service: \"))\n",
    "if years_of_service > 5:\n",
    "    bonus = salary * 0.05 # 0.05 is the decimal equivalent of 5% (since 5% = 5/100 = 0.05)\n",
    "    print(\"Your net bonus amount is: \",int(bonus))\n",
    "else:\n",
    "    print(\"You are not eligible for a bonus.\")"
   ]
  },
  {
   "cell_type": "code",
   "execution_count": 15,
   "id": "7916316b-8916-4e85-9104-ac39baf95f6b",
   "metadata": {},
   "outputs": [
    {
     "name": "stdin",
     "output_type": "stream",
     "text": [
      "How many classes held?  20\n",
      "How many classes attended?  13\n"
     ]
    },
    {
     "name": "stdout",
     "output_type": "stream",
     "text": [
      "Attendance percentage is:  65.0\n",
      "Student is not allowed to sit in the exam.\n"
     ]
    }
   ],
   "source": [
    "# A student will not be allowed to sit in exam if his/her attendance is less than 75%. Take following input from user Number of classes held Number of classes attended. And print percentage of class attended\n",
    "\n",
    "number_of_classes_held = int(input(\"How many classes held? \"))\n",
    "number_of_classes_attended = int(input(\"How many classes attended? \"))\n",
    "\n",
    "attendance_percentage = (number_of_classes_attended / number_of_classes_held) * 100\n",
    "print(\"Attendance percentage is: \", attendance_percentage)\n",
    "\n",
    "if attendance_percentage < 75:\n",
    "    print(\"Student is not allowed to sit in the exam.\")\n",
    "else:\n",
    "    print(\"Student is allowed to sit in the exam.\")"
   ]
  },
  {
   "cell_type": "code",
   "execution_count": 17,
   "id": "9ddddb70-65dd-4e2a-866a-b1ac33119ec9",
   "metadata": {},
   "outputs": [
    {
     "name": "stdin",
     "output_type": "stream",
     "text": [
      "Enter the weight:  70\n",
      "Enter the height:  1.75\n"
     ]
    },
    {
     "name": "stdout",
     "output_type": "stream",
     "text": [
      "Your BMI is 22.86. You are in the Normal weight range.\n"
     ]
    }
   ],
   "source": [
    "# Write a program to calculate the BMI and categorize it as follows: BMI < 18.5: Underweight BMI 18.5 - 24.9: Normal weight BMI 25.0 - 29.9: Overweight BMI >= 30: Obesity\n",
    "weight = float(input(\"Enter the weight: \"))\n",
    "height = float(input(\"Enter the height: \"))\n",
    "# BMI formula\n",
    "bmi = weight / (height ** 2)\n",
    "\n",
    "# Categorize BMI\n",
    "if bmi < 18.5:\n",
    "    category = \"You are in the Underweight range.\"\n",
    "elif 18.5 <= bmi < 25.0:\n",
    "    category = \"You are in the Normal weight range.\"\n",
    "elif 25.0 <= bmi < 30.0:\n",
    "    category = \"You are in the Overweight range.\"\n",
    "else:\n",
    "    category = \"You are in the Obesity range.\"\n",
    "\n",
    "# Display both BMI and category on the same line\n",
    "print(f\"Your BMI is {bmi:.2f}. {category}\")"
   ]
  },
  {
   "cell_type": "code",
   "execution_count": 19,
   "id": "6a264681-3db9-4cbc-9a8c-4ebc5ba00764",
   "metadata": {},
   "outputs": [
    {
     "name": "stdin",
     "output_type": "stream",
     "text": [
      "Enter the first side of the triangle:  5\n",
      "Enter the second side of the triangle:  5\n",
      "Enter the third side of the triangle:  8\n"
     ]
    },
    {
     "name": "stdout",
     "output_type": "stream",
     "text": [
      "The triangle is Isosceles.\n"
     ]
    }
   ],
   "source": [
    "# Write a program to check the type of triangle formed by three sides (Equilateral, Isosceles, or Scalene).\n",
    "side1 = int(input(\"Enter the first side of the triangle: \"))\n",
    "side2 = int(input(\"Enter the second side of the triangle: \"))\n",
    "side3 = int(input(\"Enter the third side of the triangle: \"))\n",
    "# Check if the sides form a valid triangle\n",
    "if side1 + side2 > side3 and side2 + side3 > side1 and side1 + side3 > side2:\n",
    "    if side1 == side2 == side3:\n",
    "        print(\"The triangle is Equilateral.\")\n",
    "    elif side1 == side2 or side1 == side3 or side2 == side3:\n",
    "        print(\"The triangle is Isosceles.\")\n",
    "    else:\n",
    "        print(\"The triangle is Scalene.\")\n",
    "else:\n",
    "    print(\"The entered sides do not form a valid triangle.\")"
   ]
  },
  {
   "cell_type": "code",
   "execution_count": 25,
   "id": "8f3e9ba2-2f30-4094-9d66-42a7e5e94167",
   "metadata": {},
   "outputs": [
    {
     "name": "stdin",
     "output_type": "stream",
     "text": [
      "Enter the radius value:  30\n"
     ]
    },
    {
     "name": "stdout",
     "output_type": "stream",
     "text": [
      "Area of circle is:  2826.0\n"
     ]
    }
   ],
   "source": [
    "# Write a program to calculate area of circle.\n",
    "radius = int(input(\"Enter the radius value: \"))\n",
    "area = 3.14 * radius * radius\n",
    "print(\"Area of circle is: \", area)"
   ]
  },
  {
   "cell_type": "code",
   "execution_count": 35,
   "id": "c7adee9e-2a30-4011-a953-59879d273699",
   "metadata": {},
   "outputs": [
    {
     "name": "stdin",
     "output_type": "stream",
     "text": [
      "Enter the value of a:  20\n",
      "Enter the value of b:  30\n"
     ]
    },
    {
     "name": "stdout",
     "output_type": "stream",
     "text": [
      "After swap the value of a is:  30\n",
      "After swap the value of b is:  20\n"
     ]
    }
   ],
   "source": [
    "# Write a program to swap the values of two variables.\n",
    "a = int(input(\"Enter the value of a: \"))\n",
    "b = int(input(\"Enter the value of b: \"))\n",
    "a,b = b,a\n",
    "print(\"After swap the value of a is: \",a)\n",
    "print(\"After swap the value of b is: \",b)"
   ]
  },
  {
   "cell_type": "code",
   "execution_count": 47,
   "id": "54a041de-2907-496e-b669-9e707c118f41",
   "metadata": {},
   "outputs": [
    {
     "name": "stdin",
     "output_type": "stream",
     "text": [
      "Enter the value of celsius:  25\n"
     ]
    },
    {
     "name": "stdout",
     "output_type": "stream",
     "text": [
      "Celsius to Fahrenhit value is:  77.0\n"
     ]
    }
   ],
   "source": [
    "# Write a program to convert Celsius to Fahrenhit.\n",
    "celsius = int(input(\"Enter the value of celsius: \"))\n",
    "fahrenhit = (celsius * 1.8) + 32  # single degree Fahrenheit size is 9/5 = 1.8\n",
    "print(\"Celsius to Fahrenhit value is: \", fahrenhit)"
   ]
  },
  {
   "cell_type": "code",
   "execution_count": 61,
   "id": "e9091726-80da-4142-8252-f898561ba022",
   "metadata": {},
   "outputs": [
    {
     "name": "stdin",
     "output_type": "stream",
     "text": [
      "Enter student marks: 75\n"
     ]
    },
    {
     "name": "stdout",
     "output_type": "stream",
     "text": [
      "Grade C\n",
      "Student is PASS\n"
     ]
    }
   ],
   "source": [
    "# Write a Python program to determine the grade of a student based on their marks. The grading system is as follows: 90 or above: 'A' 80-89: 'B' 70-79: 'C' 50-69: 'D' Below 50: 'F' Additionally, check if the student has passed or failed (marks greater than or equal to 50 are considered passing). Your program should take the student's marks as input and display both the grade and whether they passed or failed. provide python code for this.\n",
    "marks = int(input('Enter student marks:'))\n",
    "if marks >= 90:\n",
    "  print('Grade A')\n",
    "elif marks >= 80 and marks <= 89:\n",
    "  print('Grade B')\n",
    "elif marks >= 70 and marks <= 79:\n",
    "  print('Grade C')\n",
    "elif marks >= 50 and marks <= 69:\n",
    "  print('Grade D')\n",
    "else:\n",
    "  print('Grade F')\n",
    "\n",
    "if marks >= 50:\n",
    "    print('Student is PASS')\n",
    "else:\n",
    "    print('Student is FAIL')\n",
    "    "
   ]
  },
  {
   "cell_type": "code",
   "execution_count": 69,
   "id": "b3ed0bc1-98ae-4276-9109-43b8d86eae22",
   "metadata": {},
   "outputs": [
    {
     "name": "stdin",
     "output_type": "stream",
     "text": [
      "Enter employee's monthly sales:  3400\n"
     ]
    },
    {
     "name": "stdout",
     "output_type": "stream",
     "text": [
      "Employee's performance: Average\n"
     ]
    }
   ],
   "source": [
    "# Write a Python program to categorize an employee's performance based on their monthly sales. Print \"Excellent\" for sales over 10,000,\"Good\"for sales between 5,000 and 10,000,\"Average\"for sales between 2,000 and 5,000,and \"Poor\" for sales below 2,000.\n",
    "monthly_sales = int(input(\"Enter employee's monthly sales: \"))\n",
    "\n",
    "if monthly_sales < 2000:\n",
    "    print(\"Employee's performance: Poor\")\n",
    "elif 2000 <= monthly_sales < 5000:\n",
    "    print(\"Employee's performance: Average\")\n",
    "elif 5000 <= monthly_sales < 10000:\n",
    "    print(\"Employee's performance: Good\")\n",
    "else:\n",
    "    print(\"Employee's performance: Excellent\")"
   ]
  },
  {
   "cell_type": "code",
   "execution_count": 103,
   "id": "d00f9f2e-f401-4f42-91dc-9a7c4df48cf6",
   "metadata": {},
   "outputs": [
    {
     "name": "stdin",
     "output_type": "stream",
     "text": [
      "Enter the value of celsius:  30\n"
     ]
    },
    {
     "name": "stdout",
     "output_type": "stream",
     "text": [
      "Celsius to Fahrenheit value is: 86.0\n",
      "It's Hot.\n"
     ]
    }
   ],
   "source": [
    "# Write a Python program that takes a temperature in Celsius as input and converts it to Fahrenheit. If the temperature is above 100°F, print \"Very hot,\" if it's between 80°F and 100°F, print \"Hot,\" and if it's below 80°F, print \"Moderate\n",
    "celsius = int(input(\"Enter the value of celsius: \"))\n",
    "fahrenheit = (celsius * 1.8) + 32  # single degree Fahrenheit size is 9/5 = 1.8\n",
    "print(\"Celsius to Fahrenheit value is:\", fahrenheit)\n",
    "if fahrenheit > 100:\n",
    "    print(\"It's Very Hot.\")\n",
    "elif 80 <= fahrenheit <= 100:\n",
    "    print(\"It's Hot.\")\n",
    "else:\n",
    "    print(\"It's Moderate.\")"
   ]
  },
  {
   "cell_type": "code",
   "execution_count": 125,
   "id": "e909b3e7-49e3-4bc3-8e1d-a44bc7048c33",
   "metadata": {},
   "outputs": [
    {
     "name": "stdout",
     "output_type": "stream",
     "text": [
      "Select operation:\n",
      "1. Addition (+)\n",
      "2. Subtraction (-)\n",
      "3. Multiplication (*)\n",
      "4. Division (/)\n"
     ]
    },
    {
     "name": "stdin",
     "output_type": "stream",
     "text": [
      "Enter choice (1/2/3/4):  4\n",
      "Enter first number:  50\n",
      "Enter second number:  10\n"
     ]
    },
    {
     "name": "stdout",
     "output_type": "stream",
     "text": [
      "The result is 5."
     ]
    }
   ],
   "source": [
    "# Write a program that acts as a simple calculator to perform addition, subtraction, multiplication, and division based on user input.\n",
    "# Simple Calculator Program\n",
    "\n",
    "print(\"Select operation:\")\n",
    "print(\"1. Addition (+)\")\n",
    "print(\"2. Subtraction (-)\")\n",
    "print(\"3. Multiplication (*)\")\n",
    "print(\"4. Division (/)\")\n",
    "\n",
    "choice = input(\"Enter choice (1/2/3/4): \")\n",
    "\n",
    "num1 = int(input(\"Enter first number: \"))\n",
    "num2 = int(input(\"Enter second number: \"))\n",
    "\n",
    "# Perform calculation based on choice\n",
    "if choice == '1':\n",
    "    result = num1 + num2\n",
    "    print(\"The result is\", result, end='.')\n",
    "elif choice == '2':\n",
    "    result = num1 - num2\n",
    "    print(\"The result is\", result, end='.')\n",
    "elif choice == '3':\n",
    "    result = num1 * num2\n",
    "    print(\"The result is\", result, end='.')\n",
    "elif choice == '4':\n",
    "    if num2 != 0:\n",
    "        result = num1 / num2\n",
    "        print(\"The result is\", int(result), end='.')\n",
    "    else:\n",
    "        print(\"Error: Cannot divide by zero.\")\n",
    "else:\n",
    "    print(\"Invalid input. Please select 1, 2, 3, or 4.\")\n"
   ]
  }
 ],
 "metadata": {
  "kernelspec": {
   "display_name": "Python 3 (ipykernel)",
   "language": "python",
   "name": "python3"
  },
  "language_info": {
   "codemirror_mode": {
    "name": "ipython",
    "version": 3
   },
   "file_extension": ".py",
   "mimetype": "text/x-python",
   "name": "python",
   "nbconvert_exporter": "python",
   "pygments_lexer": "ipython3",
   "version": "3.12.7"
  }
 },
 "nbformat": 4,
 "nbformat_minor": 5
}
